{
 "cells": [
  {
   "cell_type": "code",
   "execution_count": 4,
   "id": "872bd771",
   "metadata": {},
   "outputs": [],
   "source": [
    "from socket import *\n",
    "from _thread import *\n",
    "import sys\n",
    "from PyQt5.QtWidgets import *\n",
    "from PyQt5.QtGui import *\n",
    "from PyQt5 import uic\n",
    "\n",
    "\n",
    "form_chat = uic.loadUiType(\"chatWindow.ui\")[0]\n",
    "\n",
    "serverName = '127.0.0.1'        #'192.168.0.10'\n",
    "# serverName ='192.168.0.10'\n",
    "serverPort = 10000\n",
    "\n",
    "clientSocket = socket(AF_INET, SOCK_STREAM)\n",
    "clientSocket.connect((serverName, serverPort))\n",
    "\n",
    "class chatWindow(QDialog, form_chat):\n",
    "    def __init__(self, user_name):\n",
    "        super().__init__()\n",
    "        self.initUI()\n",
    "        # self.show()\n",
    "        self.user_name = user_name\n",
    "\n",
    "    def initUI(self):\n",
    "        self.setupUi(self)\n",
    "        # self.show()\n",
    "        self.pushButton.clicked.connect(self.send)\n",
    "        \n",
    "        def recv_data(clientSocket) :\n",
    "            while True :\n",
    "                data = clientSocket.recv(1024)\n",
    "                self.textBrowser.setTextColor(QColor(255, 0, 0))\n",
    "                self.textBrowser.append(data.decode())\n",
    "\n",
    "        start_new_thread(recv_data, (clientSocket,))\n",
    "        self.textBrowser.append('>> Connect Server\\n')\n",
    "\n",
    "    def send(self):\n",
    "        sentence = self.user_name+': '+self.textEdit.toPlainText()\n",
    "        self.textBrowser.setTextColor(QColor(0, 0, 0))\n",
    "        self.textBrowser.append(sentence)\n",
    "        self.textEdit.clear()\n",
    "        clientSocket.send(sentence.encode())"
   ]
  },
  {
   "cell_type": "code",
   "execution_count": null,
   "id": "f698c39f",
   "metadata": {},
   "outputs": [],
   "source": []
  }
 ],
 "metadata": {
  "kernelspec": {
   "display_name": "Python 3.10.2 64-bit",
   "language": "python",
   "name": "python3"
  },
  "language_info": {
   "codemirror_mode": {
    "name": "ipython",
    "version": 3
   },
   "file_extension": ".py",
   "mimetype": "text/x-python",
   "name": "python",
   "nbconvert_exporter": "python",
   "pygments_lexer": "ipython3",
   "version": "3.10.2"
  },
  "vscode": {
   "interpreter": {
    "hash": "b557d93b90dea5d953ffe58baaf56f06fde2ccb3654250b20605f3f147789a19"
   }
  }
 },
 "nbformat": 4,
 "nbformat_minor": 5
}
