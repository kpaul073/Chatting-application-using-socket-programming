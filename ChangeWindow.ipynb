{
 "cells": [
  {
   "cell_type": "code",
   "execution_count": 2,
   "metadata": {},
   "outputs": [],
   "source": [
    "import sys\n",
    "from PyQt5.QtWidgets import *\n",
    "\n",
    "class changeWindow(QDialog):\n",
    "    def __init__(self):\n",
    "        super().__init__()\n",
    "        self.initUI()\n",
    "\n",
    "    def initUI(self):\n",
    "        self.setWindowTitle('Change Username')\n",
    "        self.setGeometry(100, 100, 300, 100)\n",
    "        layout = QVBoxLayout()\n",
    "        layout.addStretch(1)\n",
    "        edit = QLineEdit()\n",
    "        font = edit.font()\n",
    "        font.setPointSize(15)\n",
    "        edit.setFont(font)\n",
    "        self.edit = edit\n",
    "        subLayout = QHBoxLayout()\n",
    "        \n",
    "        btnOK = QPushButton(\"OK\")\n",
    "        btnOK.clicked.connect(self.onOKButtonClicked)\n",
    "        btnCancel = QPushButton(\"Cancel\")\n",
    "        btnCancel.clicked.connect(self.onCancelButtonClicked)\n",
    "        layout.addWidget(edit)\n",
    "        \n",
    "        subLayout.addWidget(btnOK)\n",
    "        subLayout.addWidget(btnCancel)\n",
    "        layout.addLayout(subLayout)\n",
    "        layout.addStretch(1)\n",
    "        self.setLayout(layout)\n",
    "\n",
    "    def onOKButtonClicked(self):\n",
    "        self.accept()\n",
    "    def onCancelButtonClicked(self):\n",
    "        self.reject()\n",
    "    def showModal(self):\n",
    "        return super().exec_()\n"
   ]
  }
 ],
 "metadata": {
  "kernelspec": {
   "display_name": "Python 3.10.2 64-bit",
   "language": "python",
   "name": "python3"
  },
  "language_info": {
   "codemirror_mode": {
    "name": "ipython",
    "version": 3
   },
   "file_extension": ".py",
   "mimetype": "text/x-python",
   "name": "python",
   "nbconvert_exporter": "python",
   "pygments_lexer": "ipython3",
   "version": "3.10.2"
  },
  "orig_nbformat": 4,
  "vscode": {
   "interpreter": {
    "hash": "b557d93b90dea5d953ffe58baaf56f06fde2ccb3654250b20605f3f147789a19"
   }
  }
 },
 "nbformat": 4,
 "nbformat_minor": 2
}
