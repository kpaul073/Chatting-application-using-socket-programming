{
 "cells": [
  {
   "cell_type": "code",
   "execution_count": 1,
   "id": "627f0b14",
   "metadata": {
    "scrolled": false
   },
   "outputs": [
    {
     "name": "stdout",
     "output_type": "stream",
     "text": [
      "importing Jupyter notebook from ChatWindow.ipynb\n",
      "importing Jupyter notebook from BotWindow.ipynb\n",
      "importing Jupyter notebook from ChangeWindow.ipynb\n"
     ]
    }
   ],
   "source": [
    "import sys\n",
    "from PyQt5.QtWidgets import *\n",
    "from PyQt5.QtCore import *\n",
    "import import_ipynb\n",
    "import ChatWindow\n",
    "import BotWindow\n",
    "import ChangeWindow"
   ]
  },
  {
   "cell_type": "code",
   "execution_count": 2,
   "id": "3bf6108d",
   "metadata": {},
   "outputs": [],
   "source": [
    "class GUI(QWidget):\n",
    "    def __init__(self):\n",
    "        super().__init__()\n",
    "        self.initUI()\n",
    "\n",
    "    def initUI(self):\n",
    "        self.user_name = 'default'\n",
    "        self.label = QLabel('Username: {}'.format(self.user_name))\n",
    "        self.label.setAlignment(Qt.AlignCenter)\n",
    "        btn1 = QPushButton('\\nChatting Channel\\n', self)\n",
    "        btn2 = QPushButton('\\nBot\\n', self)\n",
    "        btn3 = QPushButton('\\nChange Username\\n', self)\n",
    "\n",
    "        vbox = QVBoxLayout()\n",
    "        vbox.addWidget(self.label)\n",
    "        vbox.addWidget(btn1)\n",
    "        vbox.addWidget(btn2)\n",
    "        vbox.addWidget(btn3)\n",
    "\n",
    "        btn1.clicked.connect(self.chat)\n",
    "        btn2.clicked.connect(self.bot)\n",
    "        btn3.clicked.connect(self.change_name)\n",
    "\n",
    "        self.cw = ChatWindow.chatWindow(self.user_name)\n",
    "        self.setLayout(vbox)\n",
    "        self.setWindowTitle('QPushButton')\n",
    "        self.setGeometry(300, 300, 300, 0)\n",
    "        self.show()\n",
    "\n",
    "    def chat(self):\n",
    "        self.hide()\n",
    "        # self.cw = ChatWindow.chatWindow(self.user_name)\n",
    "        self.cw.show()\n",
    "        self.cw.exec()\n",
    "        self.show()\n",
    "        pass\n",
    "\n",
    "    def bot(self):\n",
    "        self.hide()\n",
    "        self.bw = BotWindow.botWindow()\n",
    "        self.bw.exec()\n",
    "        self.show()\n",
    "        pass\n",
    "    def change_name(self):\n",
    "        self.hide()\n",
    "        self.chw = ChangeWindow.changeWindow()\n",
    "        r = self.chw.showModal()\n",
    "        if r:\n",
    "            text=self.chw.edit.text()\n",
    "            self.user_name = text\n",
    "            self.label.setText('Username: {}'.format(self.user_name))\n",
    "            self.cw.user_name = self.user_name\n",
    "\n",
    "\n",
    "        self.show()\n",
    "        pass\n"
   ]
  },
  {
   "cell_type": "code",
   "execution_count": 3,
   "id": "409770ca",
   "metadata": {},
   "outputs": [
    {
     "ename": "SystemExit",
     "evalue": "0",
     "output_type": "error",
     "traceback": [
      "An exception has occurred, use %tb to see the full traceback.\n",
      "\u001b[1;31mSystemExit\u001b[0m\u001b[1;31m:\u001b[0m 0\n"
     ]
    },
    {
     "name": "stderr",
     "output_type": "stream",
     "text": [
      "c:\\Users\\paula\\AppData\\Local\\Programs\\Python\\Python310\\lib\\site-packages\\IPython\\core\\interactiveshell.py:3406: UserWarning: To exit: use 'exit', 'quit', or Ctrl-D.\n",
      "  warn(\"To exit: use 'exit', 'quit', or Ctrl-D.\", stacklevel=1)\n"
     ]
    }
   ],
   "source": [
    "if __name__ == '__main__':\n",
    "   app = QApplication(sys.argv)\n",
    "   ex = GUI()\n",
    "   sys.exit(app.exec_())"
   ]
  },
  {
   "cell_type": "code",
   "execution_count": null,
   "id": "50206bf8",
   "metadata": {},
   "outputs": [],
   "source": []
  }
 ],
 "metadata": {
  "kernelspec": {
   "display_name": "Python 3.10.2 64-bit",
   "language": "python",
   "name": "python3"
  },
  "language_info": {
   "codemirror_mode": {
    "name": "ipython",
    "version": 3
   },
   "file_extension": ".py",
   "mimetype": "text/x-python",
   "name": "python",
   "nbconvert_exporter": "python",
   "pygments_lexer": "ipython3",
   "version": "3.10.2"
  },
  "vscode": {
   "interpreter": {
    "hash": "b557d93b90dea5d953ffe58baaf56f06fde2ccb3654250b20605f3f147789a19"
   }
  }
 },
 "nbformat": 4,
 "nbformat_minor": 5
}
