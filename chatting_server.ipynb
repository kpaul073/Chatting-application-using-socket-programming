{
 "cells": [
  {
   "cell_type": "code",
   "execution_count": 1,
   "id": "de656f1f",
   "metadata": {},
   "outputs": [],
   "source": [
    "from socket import *\n",
    "from _thread import *"
   ]
  },
  {
   "cell_type": "code",
   "execution_count": 2,
   "id": "d5cff1e2",
   "metadata": {},
   "outputs": [],
   "source": [
    "def threaded(clientSocket, addr):\n",
    "    print('>> Connected by :', addr[0], ':', addr[1])\n",
    "    while True:\n",
    "        try:\n",
    "            data = clientSocket.recv(1024)\n",
    "            if not data:\n",
    "                print('>> Disconnected by ' + addr[0], ':', addr[1])\n",
    "                break\n",
    "                \n",
    "            print('>> Received from ' + addr[0], ':', addr[1], data.decode())\n",
    "            for user in users :\n",
    "                if user != clientSocket :\n",
    "                    user.send(data)\n",
    "                    \n",
    "        except ConnectionResetError as e:\n",
    "            print('>> Disconnected by ' + addr[0], ':', addr[1])\n",
    "            break\n",
    "            \n",
    "    if user in users :\n",
    "        users.remove(user)\n",
    "        print('remove client list : ',len(users))\n",
    "\n",
    "    clientSocket.close()"
   ]
  },
  {
   "cell_type": "code",
   "execution_count": 3,
   "id": "eb8b6958",
   "metadata": {},
   "outputs": [
    {
     "name": "stdout",
     "output_type": "stream",
     "text": [
      "The server is now ready to receive\n",
      "참가자 수 :  1\n",
      ">> Connected by : 127.0.0.1 : 55619\n",
      "참가자 수 :  2\n",
      ">> Connected by : 127.0.0.1 : 55653\n",
      ">> Received from 127.0.0.1 : 55619 kim: hi\n",
      ">> Received from 127.0.0.1 : 55653 lee: hi\n",
      ">> Received from 127.0.0.1 : 55619 kim: hi\n",
      ">> Received from 127.0.0.1 : 55653 lee: hi\n",
      ">> Received from 127.0.0.1 : 55619 kim: a\n",
      ">> Received from 127.0.0.1 : 55619 kim: s\n",
      ">> Received from 127.0.0.1 : 55619 kim: d\n",
      ">> Received from 127.0.0.1 : 55619 kim: f\n",
      ">> Received from 127.0.0.1 : 55653 lee: a\n",
      ">> Received from 127.0.0.1 : 55653 lee: s\n",
      ">> Received from 127.0.0.1 : 55653 lee: d\n",
      ">> Received from 127.0.0.1 : 55653 lee: f\n",
      ">> Received from 127.0.0.1 : 55619 kim: a\n",
      ">> Disconnected by 127.0.0.1 : 55653\n",
      "remove client list :  1\n"
     ]
    }
   ],
   "source": [
    "users = []\n",
    "\n",
    "serverPort = 10000\n",
    "serverSocket = socket(AF_INET, SOCK_STREAM)\n",
    "serverSocket.bind(('', serverPort))\n",
    "serverSocket.listen(5)\n",
    "print(\"The server is now ready to receive\")\n",
    "\n",
    "try:\n",
    "    while True:\n",
    "        clientSocket, addr = serverSocket.accept()\n",
    "        users.append(clientSocket)\n",
    "        start_new_thread(threaded, (clientSocket, addr))\n",
    "        print(\"참가자 수 : \", len(users))\n",
    "        \n",
    "except Exception as e :\n",
    "    print ('error : ',e)\n",
    "    \n",
    "finally:\n",
    "    serverSocket.close()"
   ]
  },
  {
   "cell_type": "code",
   "execution_count": null,
   "id": "b2026945",
   "metadata": {},
   "outputs": [],
   "source": []
  }
 ],
 "metadata": {
  "kernelspec": {
   "display_name": "Python 3.10.2 64-bit",
   "language": "python",
   "name": "python3"
  },
  "language_info": {
   "codemirror_mode": {
    "name": "ipython",
    "version": 3
   },
   "file_extension": ".py",
   "mimetype": "text/x-python",
   "name": "python",
   "nbconvert_exporter": "python",
   "pygments_lexer": "ipython3",
   "version": "3.10.2"
  },
  "vscode": {
   "interpreter": {
    "hash": "b557d93b90dea5d953ffe58baaf56f06fde2ccb3654250b20605f3f147789a19"
   }
  }
 },
 "nbformat": 4,
 "nbformat_minor": 5
}
