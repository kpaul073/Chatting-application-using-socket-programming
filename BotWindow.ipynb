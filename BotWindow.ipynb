{
 "cells": [
  {
   "cell_type": "code",
   "execution_count": 2,
   "id": "107a1875",
   "metadata": {},
   "outputs": [],
   "source": [
    "from socket import *\n",
    "import sys\n",
    "from PyQt5.QtWidgets import *\n",
    "from PyQt5.QtGui import *\n",
    "from PyQt5 import uic\n",
    "\n",
    "form_chat = uic.loadUiType(\"chatWindow.ui\")[0]\n",
    "\n",
    "class botWindow(QDialog, form_chat):\n",
    "    def __init__(self):\n",
    "        super().__init__()\n",
    "        self.initUI()\n",
    "        self.show()\n",
    "\n",
    "    def initUI(self):\n",
    "        self.setupUi(self)\n",
    "        self.pushButton.clicked.connect(self.communication)\n",
    "\n",
    "    def communication(self):\n",
    "        serverName = '127.0.0.1'        #'192.168.0.10'\n",
    "        serverPort = 12000\n",
    "\n",
    "        clientSocket = socket(AF_INET, SOCK_STREAM)\n",
    "        clientSocket.connect((serverName, serverPort))\n",
    "\n",
    "        sentence = self.textEdit.toPlainText()\n",
    "        self.textBrowser.setTextColor(QColor(0, 0, 0))\n",
    "        self.textBrowser.append(\">> \" + sentence)\n",
    "        self.textEdit.clear()\n",
    "        \n",
    "        clientSocket.send(sentence.encode())\n",
    "        modifiedSentence = clientSocket.recv(1024)\n",
    "        self.textBrowser.setTextColor(QColor(255, 0, 0))\n",
    "        self.textBrowser.append(modifiedSentence.decode() + \"\\n\")"
   ]
  },
  {
   "cell_type": "code",
   "execution_count": null,
   "id": "c36f3b34",
   "metadata": {},
   "outputs": [],
   "source": []
  }
 ],
 "metadata": {
  "kernelspec": {
   "display_name": "Python 3.10.2 64-bit",
   "language": "python",
   "name": "python3"
  },
  "language_info": {
   "codemirror_mode": {
    "name": "ipython",
    "version": 3
   },
   "file_extension": ".py",
   "mimetype": "text/x-python",
   "name": "python",
   "nbconvert_exporter": "python",
   "pygments_lexer": "ipython3",
   "version": "3.10.2"
  },
  "vscode": {
   "interpreter": {
    "hash": "b557d93b90dea5d953ffe58baaf56f06fde2ccb3654250b20605f3f147789a19"
   }
  }
 },
 "nbformat": 4,
 "nbformat_minor": 5
}
